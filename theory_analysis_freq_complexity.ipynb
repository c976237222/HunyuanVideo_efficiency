{
 "cells": [
  {
   "cell_type": "code",
   "execution_count": null,
   "metadata": {},
   "outputs": [],
   "source": [
    "import numpy as np\n",
    "import cv2\n",
    "import matplotlib.pyplot as plt\n",
    "import torch.nn.functional as F\n",
    "import torch\n",
    "import os,sys\n",
    "import torchvision.transforms as transforms\n",
    "# os.environ[\"https_proxy\"]=\"10.10.20.100:1089\"\n",
    "# os.environ[\"https_proxy\"]=\"127.0.0.1:7890\"\n",
    "os.environ[\"CUDA_VISIBLE_DEVICES\"]=\"7\"\n",
    "sys.path.append('..')\n",
    "sys.path.append('.')\n",
    "%load_ext autoreload\n",
    "%autoreload 2"
   ]
  },
  {
   "cell_type": "code",
   "execution_count": null,
   "metadata": {},
   "outputs": [],
   "source": [
    "# LOAD VAE\n",
    "\n",
    "import os\n",
    "import time\n",
    "from pathlib import Path\n",
    "from loguru import logger\n",
    "from datetime import datetime\n",
    "import torch\n",
    "\n",
    "from hyvideo.utils.file_utils import save_videos_grid\n",
    "from hyvideo.config import parse_args\n",
    "from hyvideo.inference import HunyuanVideoSampler\n",
    "from hyvideo.vae.autoencoder_kl_causal_3d import AutoencoderKLCausal3D\n",
    "import hyvideo.config\n",
    "print(hyvideo.config.__file__)\n",
    "from hyvideo.config import *\n",
    "string_args=\"\"\"--video-size 720 1280 --video-length 129 --infer-steps 50 --prompt cat. --flow-reverse --use-cpu-offload --save-path ./results\"\"\"\n",
    "string_args=string_args.split(\" \")\n",
    "print(string_args)\n",
    "\n",
    "def parse_args_with_string(string_args,namespace=None):\n",
    "    parser = argparse.ArgumentParser(description=\"HunyuanVideo inference script\")\n",
    "\n",
    "    parser = add_network_args(parser)\n",
    "    parser = add_extra_models_args(parser)\n",
    "    parser = add_denoise_schedule_args(parser)\n",
    "    parser = add_inference_args(parser)\n",
    "    parser = add_parallel_args(parser)\n",
    "\n",
    "    args = parser.parse_args(string_args,namespace=namespace)\n",
    "    args = sanity_check_args(args)\n",
    "\n",
    "    return args\n",
    "\n",
    "args = parse_args_with_string(string_args=string_args)\n",
    "print(args)\n",
    "\n",
    "from hyvideo.modules import load_model\n",
    "from hyvideo.vae import load_vae\n",
    "\n",
    "device = \"cuda\" if torch.cuda.is_available() else \"cpu\"\n",
    "torch.set_grad_enabled(False)\n",
    "\n",
    "vae, _, s_ratio, t_ratio = load_vae(\n",
    "            args.vae,\n",
    "            args.vae_precision,\n",
    "            logger=logger,\n",
    "            device=device,\n",
    "        )\n",
    "vae:AutoencoderKLCausal3D\n",
    "vae.enable_tiling()\n"
   ]
  },
  {
   "cell_type": "code",
   "execution_count": 4,
   "metadata": {},
   "outputs": [],
   "source": [
    "import numpy as np\n",
    "import cv2\n",
    "import matplotlib.pyplot as plt\n",
    "\n",
    "\n",
    "def read_yuv_file(file_path, width, height, resize_width,resize_height):\n",
    "    # 计算YUV文件的大小\n",
    "    frame_size = width * height\n",
    "    y_size = frame_size\n",
    "    u_size = frame_size // 4\n",
    "    v_size = frame_size // 4\n",
    "    frames=[]\n",
    "    with open(file_path, 'rb') as f:\n",
    "        while True:\n",
    "            # f.read(0)\n",
    "            y = f.read(y_size)\n",
    "            v = f.read(v_size)\n",
    "            u = f.read(u_size)\n",
    "\n",
    "            if not y or not u or not v:\n",
    "                break  # 文件结束\n",
    "\n",
    "            # 将字节数据转换为numpy数组\n",
    "            Y = np.frombuffer(y, dtype=np.uint8).reshape((height, width))\n",
    "            U = np.frombuffer(u, dtype=np.uint8).reshape((height // 2, width // 2))\n",
    "            V = np.frombuffer(v, dtype=np.uint8).reshape((height // 2, width // 2))\n",
    "\n",
    "            # 上采样U和V分量\n",
    "            U_up = cv2.resize(U, (width, height), interpolation=cv2.INTER_LINEAR)\n",
    "            V_up = cv2.resize(V, (width, height), interpolation=cv2.INTER_LINEAR)\n",
    "\n",
    "            # 合并YUV分量为BGR格式\n",
    "            yuv = cv2.merge((Y, U_up, V_up))\n",
    "            bgr = cv2.cvtColor(yuv, cv2.COLOR_YUV2BGR)\n",
    "            bgr = cv2.resize(bgr,(resize_width,resize_height))\n",
    "            frames.append(bgr)\n",
    "    return frames\n"
   ]
  },
  {
   "cell_type": "code",
   "execution_count": 5,
   "metadata": {},
   "outputs": [],
   "source": [
    "from pytorch_msssim import ssim as calc_ssim_func\n",
    "\n",
    "def calculate_video_content_info_ssim(videos1):\n",
    "    # print(\"calculate_content_info_ssim...\")\n",
    "    # videos [batch_size, timestamps, channel, h, w]\n",
    "\n",
    "    ci_ssim_results = []\n",
    "\n",
    "    for video_num in (range(videos1.shape[0])):\n",
    "        # get a video\n",
    "        # video [timestamps, channel, h, w]\n",
    "        video1 = videos1[video_num].mul(255).add_(0.5).clamp_(0, 255)\n",
    "\n",
    "        img1 = video1[:-1]\n",
    "        img2 = video1[1:]\n",
    "        ssim_val=calc_ssim_func(img1, img2, data_range=255, size_average=True)\n",
    "        # print(ssim_val)\n",
    "        ci_ssim_results.append(1-ssim_val.item())\n",
    "    return ci_ssim_results"
   ]
  },
  {
   "cell_type": "code",
   "execution_count": 40,
   "metadata": {},
   "outputs": [
    {
     "name": "stderr",
     "output_type": "stream",
     "text": [
      "  0%|          | 0/22 [00:00<?, ?it/s]"
     ]
    },
    {
     "name": "stdout",
     "output_type": "stream",
     "text": [
      "===== process hamster-30fps-360-1920x1080.yuv frame 0 =====\n",
      "(126720, 17)\n",
      "===== process hamster-30fps-360-1920x1080.yuv frame 67 =====\n",
      "(126720, 17)\n",
      "===== process hamster-30fps-360-1920x1080.yuv frame 134 =====\n",
      "(126720, 17)\n",
      "===== process hamster-30fps-360-1920x1080.yuv frame 201 =====\n"
     ]
    },
    {
     "name": "stderr",
     "output_type": "stream",
     "text": [
      "  5%|▍         | 1/22 [01:05<22:48, 65.16s/it]"
     ]
    },
    {
     "name": "stdout",
     "output_type": "stream",
     "text": [
      "(126720, 17)\n",
      "===== process books-30fps-360-1920x1080.yuv frame 0 =====\n",
      "(126720, 17)\n",
      "===== process books-30fps-360-1920x1080.yuv frame 67 =====\n",
      "(126720, 17)\n",
      "===== process books-30fps-360-1920x1080.yuv frame 134 =====\n",
      "(126720, 17)\n",
      "===== process books-30fps-360-1920x1080.yuv frame 201 =====\n"
     ]
    },
    {
     "name": "stderr",
     "output_type": "stream",
     "text": [
      "  9%|▉         | 2/22 [02:10<21:48, 65.43s/it]"
     ]
    },
    {
     "name": "stdout",
     "output_type": "stream",
     "text": [
      "(126720, 17)\n",
      "===== process pond-30fps-360-1920x1080.yuv frame 0 =====\n",
      "(126720, 17)\n",
      "===== process pond-30fps-360-1920x1080.yuv frame 67 =====\n",
      "(126720, 17)\n",
      "===== process pond-30fps-360-1920x1080.yuv frame 134 =====\n",
      "(126720, 17)\n",
      "===== process pond-30fps-360-1920x1080.yuv frame 201 =====\n"
     ]
    },
    {
     "name": "stderr",
     "output_type": "stream",
     "text": [
      " 14%|█▎        | 3/22 [03:16<20:49, 65.77s/it]"
     ]
    },
    {
     "name": "stdout",
     "output_type": "stream",
     "text": [
      "(126720, 17)\n",
      "===== process martial_arts-30fps-360-1920x1080.yuv frame 0 =====\n",
      "(126720, 17)\n",
      "===== process martial_arts-30fps-360-1920x1080.yuv frame 67 =====\n",
      "(126720, 17)\n",
      "===== process martial_arts-30fps-360-1920x1080.yuv frame 134 =====\n",
      "(126720, 17)\n",
      "===== process martial_arts-30fps-360-1920x1080.yuv frame 201 =====\n"
     ]
    },
    {
     "name": "stderr",
     "output_type": "stream",
     "text": [
      " 18%|█▊        | 4/22 [04:23<19:47, 65.95s/it]"
     ]
    },
    {
     "name": "stdout",
     "output_type": "stream",
     "text": [
      "(126720, 17)\n",
      "===== process bouncyball-30fps-360-1920x1080.yuv frame 0 =====\n",
      "(126720, 17)\n",
      "===== process bouncyball-30fps-360-1920x1080.yuv frame 67 =====\n",
      "(126720, 17)\n",
      "===== process bouncyball-30fps-360-1920x1080.yuv frame 134 =====\n",
      "(126720, 17)\n",
      "===== process bouncyball-30fps-360-1920x1080.yuv frame 201 =====\n"
     ]
    },
    {
     "name": "stderr",
     "output_type": "stream",
     "text": [
      " 23%|██▎       | 5/22 [05:29<18:46, 66.25s/it]"
     ]
    },
    {
     "name": "stdout",
     "output_type": "stream",
     "text": [
      "(126720, 17)\n",
      "===== process cyclist-30fps-360-1920x1080.yuv frame 0 =====\n",
      "(126720, 17)\n",
      "===== process cyclist-30fps-360-1920x1080.yuv frame 67 =====\n",
      "(126720, 17)\n",
      "===== process cyclist-30fps-360-1920x1080.yuv frame 134 =====\n",
      "(126720, 17)\n",
      "===== process cyclist-30fps-360-1920x1080.yuv frame 201 =====\n"
     ]
    },
    {
     "name": "stderr",
     "output_type": "stream",
     "text": [
      " 27%|██▋       | 6/22 [06:36<17:42, 66.42s/it]"
     ]
    },
    {
     "name": "stdout",
     "output_type": "stream",
     "text": [
      "(126720, 17)\n",
      "===== process golf_side-30fps-360-1920x1080.yuv frame 0 =====\n",
      "(126720, 17)\n",
      "===== process golf_side-30fps-360-1920x1080.yuv frame 67 =====\n",
      "(126720, 17)\n",
      "===== process golf_side-30fps-360-1920x1080.yuv frame 134 =====\n",
      "(126720, 17)\n",
      "===== process golf_side-30fps-360-1920x1080.yuv frame 201 =====\n"
     ]
    },
    {
     "name": "stderr",
     "output_type": "stream",
     "text": [
      " 32%|███▏      | 7/22 [07:43<16:37, 66.47s/it]"
     ]
    },
    {
     "name": "stdout",
     "output_type": "stream",
     "text": [
      "(126720, 17)\n",
      "===== process leaves_wall-30fps-360-1920x1080.yuv frame 0 =====\n",
      "(126720, 17)\n",
      "===== process leaves_wall-30fps-360-1920x1080.yuv frame 67 =====\n",
      "(126720, 17)\n",
      "===== process leaves_wall-30fps-360-1920x1080.yuv frame 134 =====\n",
      "(126720, 17)\n",
      "===== process leaves_wall-30fps-360-1920x1080.yuv frame 201 =====\n"
     ]
    },
    {
     "name": "stderr",
     "output_type": "stream",
     "text": [
      " 36%|███▋      | 8/22 [08:50<15:32, 66.62s/it]"
     ]
    },
    {
     "name": "stdout",
     "output_type": "stream",
     "text": [
      "(126720, 17)\n",
      "===== process plasma-30fps-360-1920x1080.yuv frame 0 =====\n",
      "(126720, 17)\n",
      "===== process plasma-30fps-360-1920x1080.yuv frame 67 =====\n",
      "(126720, 17)\n",
      "===== process plasma-30fps-360-1920x1080.yuv frame 134 =====\n",
      "(126720, 17)\n",
      "===== process plasma-30fps-360-1920x1080.yuv frame 201 =====\n"
     ]
    },
    {
     "name": "stderr",
     "output_type": "stream",
     "text": [
      " 41%|████      | 9/22 [09:56<14:25, 66.60s/it]"
     ]
    },
    {
     "name": "stdout",
     "output_type": "stream",
     "text": [
      "(126720, 17)\n",
      "===== process lamppost-30fps-360-1920x1080.yuv frame 0 =====\n",
      "(126720, 17)\n",
      "===== process lamppost-30fps-360-1920x1080.yuv frame 67 =====\n",
      "(126720, 17)\n",
      "===== process lamppost-30fps-360-1920x1080.yuv frame 134 =====\n",
      "(126720, 17)\n",
      "===== process lamppost-30fps-360-1920x1080.yuv frame 201 =====\n"
     ]
    },
    {
     "name": "stderr",
     "output_type": "stream",
     "text": [
      " 45%|████▌     | 10/22 [11:03<13:19, 66.61s/it]"
     ]
    },
    {
     "name": "stdout",
     "output_type": "stream",
     "text": [
      "(126720, 17)\n",
      "===== process flowers-30fps-360-1920x1080.yuv frame 0 =====\n",
      "(126720, 17)\n",
      "===== process flowers-30fps-360-1920x1080.yuv frame 67 =====\n",
      "(126720, 17)\n",
      "===== process flowers-30fps-360-1920x1080.yuv frame 134 =====\n",
      "(126720, 17)\n",
      "===== process flowers-30fps-360-1920x1080.yuv frame 201 =====\n"
     ]
    },
    {
     "name": "stderr",
     "output_type": "stream",
     "text": [
      " 50%|█████     | 11/22 [12:10<12:14, 66.74s/it]"
     ]
    },
    {
     "name": "stdout",
     "output_type": "stream",
     "text": [
      "(126720, 17)\n",
      "===== process water_ripples-30fps-360-1920x1080.yuv frame 0 =====\n",
      "(126720, 17)\n",
      "===== process water_ripples-30fps-360-1920x1080.yuv frame 67 =====\n",
      "(126720, 17)\n",
      "===== process water_ripples-30fps-360-1920x1080.yuv frame 134 =====\n",
      "(126720, 17)\n",
      "===== process water_ripples-30fps-360-1920x1080.yuv frame 201 =====\n"
     ]
    },
    {
     "name": "stderr",
     "output_type": "stream",
     "text": [
      " 55%|█████▍    | 12/22 [13:17<11:07, 66.75s/it]"
     ]
    },
    {
     "name": "stdout",
     "output_type": "stream",
     "text": [
      "(126720, 17)\n",
      "===== process water_splashing-30fps-360-1920x1080.yuv frame 0 =====\n",
      "(126720, 17)\n",
      "===== process water_splashing-30fps-360-1920x1080.yuv frame 67 =====\n",
      "(126720, 17)\n",
      "===== process water_splashing-30fps-360-1920x1080.yuv frame 134 =====\n",
      "(126720, 17)\n",
      "===== process water_splashing-30fps-360-1920x1080.yuv frame 201 =====\n"
     ]
    },
    {
     "name": "stderr",
     "output_type": "stream",
     "text": [
      " 59%|█████▉    | 13/22 [14:23<10:00, 66.76s/it]"
     ]
    },
    {
     "name": "stdout",
     "output_type": "stream",
     "text": [
      "(126720, 17)\n",
      "===== process catch_track-30fps-360-1920x1080.yuv frame 0 =====\n",
      "(126720, 17)\n",
      "===== process catch_track-30fps-360-1920x1080.yuv frame 67 =====\n",
      "(126720, 17)\n",
      "===== process catch_track-30fps-360-1920x1080.yuv frame 134 =====\n",
      "(126720, 17)\n",
      "===== process catch_track-30fps-360-1920x1080.yuv frame 201 =====\n"
     ]
    },
    {
     "name": "stderr",
     "output_type": "stream",
     "text": [
      " 64%|██████▎   | 14/22 [15:30<08:54, 66.81s/it]"
     ]
    },
    {
     "name": "stdout",
     "output_type": "stream",
     "text": [
      "(126720, 17)\n",
      "===== process typing-30fps-360-1920x1080.yuv frame 0 =====\n",
      "(126720, 17)\n",
      "===== process typing-30fps-360-1920x1080.yuv frame 67 =====\n",
      "(126720, 17)\n",
      "===== process typing-30fps-360-1920x1080.yuv frame 134 =====\n",
      "(126720, 17)\n",
      "===== process typing-30fps-360-1920x1080.yuv frame 201 =====\n"
     ]
    },
    {
     "name": "stderr",
     "output_type": "stream",
     "text": [
      " 68%|██████▊   | 15/22 [16:37<07:47, 66.84s/it]"
     ]
    },
    {
     "name": "stdout",
     "output_type": "stream",
     "text": [
      "(126720, 17)\n",
      "===== process joggers-30fps-360-1920x1080.yuv frame 0 =====\n",
      "(126720, 17)\n",
      "===== process joggers-30fps-360-1920x1080.yuv frame 67 =====\n",
      "(126720, 17)\n",
      "===== process joggers-30fps-360-1920x1080.yuv frame 134 =====\n",
      "(126720, 17)\n",
      "===== process joggers-30fps-360-1920x1080.yuv frame 201 =====\n"
     ]
    },
    {
     "name": "stderr",
     "output_type": "stream",
     "text": [
      " 73%|███████▎  | 16/22 [17:45<06:41, 66.95s/it]"
     ]
    },
    {
     "name": "stdout",
     "output_type": "stream",
     "text": [
      "(126720, 17)\n",
      "===== process sparkler-30fps-360-1920x1080.yuv frame 0 =====\n",
      "(126720, 17)\n",
      "===== process sparkler-30fps-360-1920x1080.yuv frame 67 =====\n",
      "(126720, 17)\n",
      "===== process sparkler-30fps-360-1920x1080.yuv frame 134 =====\n",
      "(126720, 17)\n",
      "===== process sparkler-30fps-360-1920x1080.yuv frame 201 =====\n"
     ]
    },
    {
     "name": "stderr",
     "output_type": "stream",
     "text": [
      " 77%|███████▋  | 17/22 [18:53<05:36, 67.27s/it]"
     ]
    },
    {
     "name": "stdout",
     "output_type": "stream",
     "text": [
      "(126720, 17)\n",
      "===== process bobblehead-30fps-360-1920x1080.yuv frame 0 =====\n",
      "(126720, 17)\n",
      "===== process bobblehead-30fps-360-1920x1080.yuv frame 67 =====\n",
      "(126720, 17)\n",
      "===== process bobblehead-30fps-360-1920x1080.yuv frame 134 =====\n",
      "(126720, 17)\n",
      "===== process bobblehead-30fps-360-1920x1080.yuv frame 201 =====\n"
     ]
    },
    {
     "name": "stderr",
     "output_type": "stream",
     "text": [
      " 82%|████████▏ | 18/22 [20:01<04:30, 67.70s/it]"
     ]
    },
    {
     "name": "stdout",
     "output_type": "stream",
     "text": [
      "(126720, 17)\n",
      "===== process library-30fps-360-1920x1080.yuv frame 0 =====\n",
      "(126720, 17)\n",
      "===== process library-30fps-360-1920x1080.yuv frame 67 =====\n",
      "(126720, 17)\n",
      "===== process library-30fps-360-1920x1080.yuv frame 134 =====\n",
      "(126720, 17)\n",
      "===== process library-30fps-360-1920x1080.yuv frame 201 =====\n"
     ]
    },
    {
     "name": "stderr",
     "output_type": "stream",
     "text": [
      " 86%|████████▋ | 19/22 [21:09<03:22, 67.60s/it]"
     ]
    },
    {
     "name": "stdout",
     "output_type": "stream",
     "text": [
      "(126720, 17)\n",
      "===== process pour-30fps-360-1920x1080.yuv frame 0 =====\n",
      "(126720, 17)\n",
      "===== process pour-30fps-360-1920x1080.yuv frame 67 =====\n",
      "(126720, 17)\n",
      "===== process pour-30fps-360-1920x1080.yuv frame 134 =====\n",
      "(126720, 17)\n",
      "===== process pour-30fps-360-1920x1080.yuv frame 201 =====\n"
     ]
    },
    {
     "name": "stderr",
     "output_type": "stream",
     "text": [
      " 91%|█████████ | 20/22 [22:16<02:15, 67.59s/it]"
     ]
    },
    {
     "name": "stdout",
     "output_type": "stream",
     "text": [
      "(126720, 17)\n",
      "===== process guitar_focus-30fps-360-1920x1080.yuv frame 0 =====\n",
      "(126720, 17)\n",
      "===== process guitar_focus-30fps-360-1920x1080.yuv frame 67 =====\n",
      "(126720, 17)\n",
      "===== process guitar_focus-30fps-360-1920x1080.yuv frame 134 =====\n",
      "(126720, 17)\n",
      "===== process guitar_focus-30fps-360-1920x1080.yuv frame 201 =====\n"
     ]
    },
    {
     "name": "stderr",
     "output_type": "stream",
     "text": [
      " 95%|█████████▌| 21/22 [23:24<01:07, 67.58s/it]"
     ]
    },
    {
     "name": "stdout",
     "output_type": "stream",
     "text": [
      "(126720, 17)\n",
      "===== process catch-30fps-360-1920x1080.yuv frame 0 =====\n",
      "(126720, 17)\n",
      "===== process catch-30fps-360-1920x1080.yuv frame 67 =====\n",
      "(126720, 17)\n",
      "===== process catch-30fps-360-1920x1080.yuv frame 134 =====\n",
      "(126720, 17)\n",
      "===== process catch-30fps-360-1920x1080.yuv frame 201 =====\n"
     ]
    },
    {
     "name": "stderr",
     "output_type": "stream",
     "text": [
      "100%|██████████| 22/22 [24:31<00:00, 66.89s/it]"
     ]
    },
    {
     "name": "stdout",
     "output_type": "stream",
     "text": [
      "(126720, 17)\n"
     ]
    },
    {
     "name": "stderr",
     "output_type": "stream",
     "text": [
      "\n"
     ]
    }
   ],
   "source": [
    "path=\"/mnt/public/wangsiyuan/k8bfn0qsj9fs1rwnc2x75z6t7/BVI-HFR/30hz/\"\n",
    "fps = 30\n",
    "from tqdm import tqdm\n",
    "\n",
    "datas_ci=[]\n",
    "datas_latent_x=[]\n",
    "datas_latent_y=[]\n",
    "\n",
    "n_frames=67\n",
    "\n",
    "for filename in tqdm(os.listdir(path)):\n",
    "    if filename.endswith(\".yuv\"):\n",
    "        video_path = path+filename  # 替换为你的视频文件路径\n",
    "        raw_frames=read_yuv_file(video_path, width=1920, height=1080,resize_width=960,resize_height=528)\n",
    "        # 存储视频帧的亮度值\n",
    "        \n",
    "        frames=[]\n",
    "        tensor_frames=[]\n",
    "        for frame in raw_frames:\n",
    "            # 将帧转换为灰度图并获取亮度值\n",
    "            tensor_frame = transforms.ToTensor()(frame)\n",
    "            tensor_frames.append(tensor_frame)\n",
    "\n",
    "        for frame_st in range(0,len(tensor_frames)-n_frames+1,n_frames):\n",
    "            print(f\"===== process {filename} frame {frame_st} =====\")\n",
    "            video_tensor = torch.stack(tensor_frames[frame_st:frame_st+n_frames])          # (T, C, H, W)\n",
    "            ci=calculate_video_content_info_ssim(video_tensor.unsqueeze(0))[0] # (0,1)范围\n",
    "            datas_ci.append(ci)\n",
    "\n",
    "            video_tensor = video_tensor.permute(1, 0, 2, 3) # (C, T, H, W)\n",
    "\n",
    "            video_tensor = 2 * video_tensor - 1         # [-1, 1]范围\n",
    "\n",
    "            x=video_tensor.unsqueeze(0).half().cuda()\n",
    "            y=vae.encode(x)\n",
    "\n",
    "            signal = y.latent_dist.mean.permute(0,1,3,4,2)\n",
    "            signal = signal.reshape(-1,signal.shape[-1]).cpu().numpy()\n",
    "\n",
    "            print(signal.shape)\n",
    "\n",
    "            # 进行离散傅里叶变换\n",
    "            frequencies = np.fft.fft(signal,axis=1)\n",
    "            frequencies_magnitude = np.abs(frequencies).mean(axis=0)\n",
    "            frequencies_magnitude = frequencies_magnitude[1:]\n",
    "\n",
    "            fft_freq = np.fft.fftfreq(signal.shape[1], 4/fps)\n",
    "            fft_freq = fft_freq[1:]\n",
    "\n",
    "            datas_latent_x.append(np.abs(fft_freq))\n",
    "            datas_latent_y.append(frequencies_magnitude)\n"
   ]
  },
  {
   "cell_type": "code",
   "execution_count": 7,
   "metadata": {},
   "outputs": [],
   "source": [
    "torch.save((datas_ci,datas_latent_x,datas_latent_y),\"output/theory_analysis_freq_complexity_datas.pt\")"
   ]
  },
  {
   "cell_type": "code",
   "execution_count": null,
   "metadata": {},
   "outputs": [],
   "source": [
    "datas_ci,datas_latent_x,datas_latent_y=torch.load(\"output/theory_analysis_freq_complexity_datas.pt\")"
   ]
  },
  {
   "cell_type": "code",
   "execution_count": 41,
   "metadata": {},
   "outputs": [
    {
     "data": {
      "image/png": "[encoded data removed]",
      "text/plain": [
       "<Figure size 600x300 with 1 Axes>"
      ]
     },
     "metadata": {},
     "output_type": "display_data"
    }
   ],
   "source": [
    "cnt=0\n",
    "plt.figure(figsize=(6, 3))\n",
    "\n",
    "selected_filenames=[\"flowers\",\"books\",\"martial_arts\",\"cyclist\",\"golf_side\",\"typing\",\"guitar_focus\"]\n",
    "\n",
    "cnt=0\n",
    "for filename in os.listdir(path):\n",
    "    if filename.endswith(\".yuv\"):\n",
    "        name=filename.split('-')[0]\n",
    "        # if cnt%3==1:\n",
    "        # if 1:\n",
    "        if name in selected_filenames:\n",
    "            plt.plot(datas_latent_x[cnt],datas_latent_y[cnt],'-',label=name)\n",
    "        cnt+=1\n",
    "plt.title('Frequency Spectrum of Latent Space (HunyuanVideo VAE)')\n",
    "plt.xlabel('Frequency (Hz)')\n",
    "plt.ylabel('Mean Magnitude')\n",
    "# plt.ylim(1,15)\n",
    "# plt.xlim(0.1,7.5)\n",
    "plt.grid()\n",
    "plt.legend()\n",
    "\n",
    "plt.tight_layout()\n",
    "# plt.show()\n",
    "# plt.savefig('output/frequency_analyse.pdf',bbox_inches='tight')"
   ]
  },
  {
   "cell_type": "code",
   "execution_count": 73,
   "metadata": {},
   "outputs": [
    {
     "name": "stdout",
     "output_type": "stream",
     "text": [
      "当前工作目录: /mnt/public/wangsiyuan/HunyuanVideo_efficiency\n",
      "文件存在: /home/hanling/HunyuanVideo_efficiency/analysis_ci/analysis_results_30hz_ssim_1x_720p/metrics.csv\n",
      "文件存在: /home/hanling/HunyuanVideo_efficiency/analysis_ci/analysis_results_30hz_ssim_2x_720p/metrics.csv\n",
      "文件存在: /home/hanling/HunyuanVideo_efficiency/analysis_ci/analysis_results_30hz_ssim_4x_720p/metrics.csv\n",
      "指标: lpips, 设置: 4Hz, 拟合参数: a=0.0809, b=0.0160, R²=0.4991\n",
      "指标: lpips, 设置: 2Hz, 拟合参数: a=0.2940, b=0.0217, R²=0.8614\n",
      "指标: lpips, 设置: 1Hz, 拟合参数: a=0.4906, b=0.0358, R²=0.8902\n"
     ]
    },
    {
     "data": {
      "image/png": "[encoded data removed]",
      "text/plain": [
       "<Figure size 600x500 with 2 Axes>"
      ]
     },
     "metadata": {},
     "output_type": "display_data"
    }
   ],
   "source": [
    "import os\n",
    "import sys\n",
    "import pandas as pd\n",
    "import numpy as np\n",
    "import matplotlib.pyplot as plt\n",
    "from scipy.optimize import curve_fit\n",
    "\n",
    "# 定义拟合函数，这里以线性函数为例\n",
    "def linear_func(x, a, b):\n",
    "    return a * x + b\n",
    "\n",
    "# 文件路径列表\n",
    "file_paths = [\n",
    "    '/home/hanling/HunyuanVideo_efficiency/analysis_ci/analysis_results_30hz_ssim_1x_720p/metrics.csv',\n",
    "    '/home/hanling/HunyuanVideo_efficiency/analysis_ci/analysis_results_30hz_ssim_2x_720p/metrics.csv',\n",
    "    '/home/hanling/HunyuanVideo_efficiency/analysis_ci/analysis_results_30hz_ssim_4x_720p/metrics.csv'\n",
    "]\n",
    "\n",
    "# 标签列表，用于图例\n",
    "colors = ['r', 'g', 'b']\n",
    "\n",
    "# 存储拟合参数\n",
    "fit_params = {'psnr': [], 'ssim': [], 'lpips': []}\n",
    "\n",
    "# 存储每个文件的数据\n",
    "data_list = []\n",
    "\n",
    "# 打印当前工作目录\n",
    "print(f\"当前工作目录: {os.getcwd()}\")\n",
    "\n",
    "# 检查每个文件是否存在并读取\n",
    "for path in file_paths:\n",
    "    if not os.path.isfile(path):\n",
    "        print(f\"文件不存在: {path}\")\n",
    "    else:\n",
    "        print(f\"文件存在: {path}\")\n",
    "        try:\n",
    "            df = pd.read_csv(path)\n",
    "            \n",
    "            # 确保 'tile_ci' 被转换为浮点数\n",
    "            df['tile_ci'] = pd.to_numeric(df['tile_ci'], errors='coerce')\n",
    "            \n",
    "            # 选择数值类型的列\n",
    "            numeric_cols = ['tile_ci', 'psnr', 'ssim', 'lpips']\n",
    "            df_numeric = df[numeric_cols].dropna()  # 去除可能的NaN值\n",
    "            \n",
    "            # 按 tile_ci 分组，计算每个 tile_ci 的平均值\n",
    "            df_grouped = df_numeric.groupby('tile_ci').mean().reset_index()\n",
    "            data_list.append(df_grouped)\n",
    "        except Exception as e:\n",
    "            print(f\"读取文件失败 {path}: {e}\")\n",
    "\n",
    "# 确保所有文件都存在后继续\n",
    "if len(data_list) != len(file_paths):\n",
    "    print(\"部分文件缺失，无法继续拟合和绘图。\")\n",
    "    sys.exit(1)\n",
    "\n",
    "# 定义指标\n",
    "metrics = ['lpips']\n",
    "\n",
    "labels = ['4Hz', '2Hz', '1Hz']\n",
    "plt.figure(figsize=(6, 5))\n",
    "plt.subplot(2,1,2)\n",
    "# 对每个指标进行独立绘图\n",
    "for metric in metrics:\n",
    "    for i, df in enumerate(data_list):\n",
    "        x = 1-df['tile_ci'].values\n",
    "        y = df[metric].values\n",
    "        # 拟合\n",
    "        try:\n",
    "            popt, _ = curve_fit(linear_func, x, y, method='dogbox',sigma=1)\n",
    "            fit_params[metric].append(popt)\n",
    "            # 生成拟合曲线\n",
    "            x_fit = np.linspace(x.min(), x.max(), 100)\n",
    "            y_fit = linear_func(x_fit, *popt)\n",
    "            plt.plot(x_fit, y_fit, color=colors[i], label=labels[i])\n",
    "            # 输出拟合参数和拟合质量\n",
    "            a, b = popt\n",
    "            y_pred = linear_func(x, a, b)\n",
    "            r2 = np.corrcoef(y, y_pred)[0, 1]**2\n",
    "            print(f\"指标: {metric}, 设置: {labels[i]}, 拟合参数: a={a:.4f}, b={b:.4f}, R²={r2:.4f}\")\n",
    "        except Exception as e:\n",
    "            print(f\"拟合失败 for {metric} in {labels[i]}: {e}\")\n",
    "            fit_params[metric].append([np.nan, np.nan])\n",
    "        \n",
    "        # 绘制原始数据点\n",
    "        plt.scatter(x, y, color=colors[i], alpha=0.3)\n",
    "    plt.xlabel('Content Complexity')\n",
    "    plt.ylabel('Reconstruction LPIPS')\n",
    "    plt.legend()\n",
    "    plt.tight_layout()\n",
    "\n",
    "plt.grid()\n",
    "plt.xlim(0,0.69)\n",
    "\n",
    "from scipy.interpolate import interp1d\n",
    "from scipy.optimize import curve_fit\n",
    "def linear_func(x, a, b):\n",
    "    return a * x + b\n",
    "\n",
    "# plt.figure(figsize=(6, 3))\n",
    "plt.subplot(2,1,1)\n",
    "for mag_threshold in [1.8]:\n",
    "    freq_effs=[]\n",
    "    freq_effs2=[]\n",
    "    for i in range(len(datas_ci)):\n",
    "        freq=datas_latent_x[i]\n",
    "        mag=datas_latent_y[i]\n",
    "        freq_ind=np.argsort(freq)\n",
    "        mag=mag[freq_ind]\n",
    "        freq=freq[freq_ind]\n",
    "        \n",
    "        f_interp = interp1d(freq,mag, kind='linear', fill_value='extrapolate')\n",
    "\n",
    "        freq_eff = f_interp(mag_threshold)\n",
    "        freq_effs.append(freq_eff)\n",
    "    plt.plot(datas_ci,freq_effs,'x',label=f\"ε={mag_threshold}\")\n",
    "    # popt, _ = curve_fit(linear_func, np.array(datas_ci), np.array(freq_effs), method='dogbox',sigma=1)\n",
    "    # # 生成拟合曲线\n",
    "    # x_fit = np.linspace(x.min(), x.max(), 100)\n",
    "    # y_fit = linear_func(x_fit, *popt)\n",
    "    # plt.plot(x_fit, y_fit, label='fit curve')\n",
    "    # plt.plot(datas_ci,freq_effs2,'o',label=f\"ε={mag_threshold}\")\n",
    "# plt.title('Complexity and Efficient Frequency')\n",
    "plt.xlabel('Content Complexity')\n",
    "plt.ylabel('Efficient Frequency (Hz)')\n",
    "plt.xlim(0,0.69)\n",
    "plt.grid()\n",
    "plt.tight_layout()\n",
    "# plt.show()\n",
    "plt.savefig('output/frequency_analyse_eff.pdf',bbox_inches='tight')\n",
    "\n",
    "\n"
   ]
  },
  {
   "cell_type": "code",
   "execution_count": 69,
   "metadata": {},
   "outputs": [
    {
     "data": {
      "image/png": "[encoded data removed]",
      "text/plain": [
       "<Figure size 640x480 with 1 Axes>"
      ]
     },
     "metadata": {},
     "output_type": "display_data"
    }
   ],
   "source": [
    "from scipy.interpolate import interp1d\n",
    "from scipy.optimize import curve_fit\n",
    "def linear_func(x, a, b):\n",
    "    return a * x + b\n",
    "\n",
    "# plt.figure(figsize=(6, 3))\n",
    "plt.subplot(2,1,2)\n",
    "for mag_threshold in [1.8]:\n",
    "    freq_effs=[]\n",
    "    freq_effs2=[]\n",
    "    for i in range(len(datas_ci)):\n",
    "        freq=datas_latent_x[i]\n",
    "        mag=datas_latent_y[i]\n",
    "        freq_ind=np.argsort(freq)\n",
    "        mag=mag[freq_ind]\n",
    "        freq=freq[freq_ind]\n",
    "        \n",
    "        f_interp = interp1d(freq,mag, kind='linear', fill_value='extrapolate')\n",
    "\n",
    "        freq_eff = f_interp(mag_threshold)\n",
    "        freq_effs.append(freq_eff)\n",
    "    plt.plot(datas_ci,freq_effs,'x',label=f\"ε={mag_threshold}\")\n",
    "    # popt, _ = curve_fit(linear_func, np.array(datas_ci), np.array(freq_effs), method='dogbox',sigma=1)\n",
    "    # # 生成拟合曲线\n",
    "    # x_fit = np.linspace(x.min(), x.max(), 100)\n",
    "    # y_fit = linear_func(x_fit, *popt)\n",
    "    # plt.plot(x_fit, y_fit, label='fit curve')\n",
    "    # plt.plot(datas_ci,freq_effs2,'o',label=f\"ε={mag_threshold}\")\n",
    "# plt.title('Complexity and Efficient Frequency')\n",
    "plt.xlabel('Content Complexity')\n",
    "plt.ylabel('Efficient Frequency (Hz)')\n",
    "plt.grid()\n",
    "plt.tight_layout()\n",
    "# plt.show()\n",
    "plt.savefig('output/frequency_analyse_eff.pdf',bbox_inches='tight')\n"
   ]
  },
  {
   "cell_type": "code",
   "execution_count": 3,
   "metadata": {},
   "outputs": [
    {
     "name": "stdout",
     "output_type": "stream",
     "text": [
      "当前工作目录: /mnt/public/wangsiyuan/HunyuanVideo_efficiency\n",
      "文件存在: /home/hanling/HunyuanVideo_efficiency/analysis_ci/analysis_results_30hz_ssim_1x_720p/metrics.csv\n",
      "文件存在: /home/hanling/HunyuanVideo_efficiency/analysis_ci/analysis_results_30hz_ssim_2x_720p/metrics.csv\n",
      "文件存在: /home/hanling/HunyuanVideo_efficiency/analysis_ci/analysis_results_30hz_ssim_4x_720p/metrics.csv\n",
      "指标: lpips, 设置: 4Hz, 拟合参数: a=0.0809, b=0.0160, R²=0.4991\n",
      "指标: lpips, 设置: 2Hz, 拟合参数: a=0.2940, b=0.0217, R²=0.8614\n",
      "指标: lpips, 设置: 1Hz, 拟合参数: a=0.4906, b=0.0358, R²=0.8902\n"
     ]
    },
    {
     "data": {
      "text/plain": [
       "0.38636363636363635"
      ]
     },
     "execution_count": 3,
     "metadata": {},
     "output_type": "execute_result"
    },
    {
     "data": {
      "image/png": "[encoded data removed]",
      "text/plain": [
       "<Figure size 600x500 with 1 Axes>"
      ]
     },
     "metadata": {},
     "output_type": "display_data"
    }
   ],
   "source": [
    "import os\n",
    "import sys\n",
    "import pandas as pd\n",
    "import numpy as np\n",
    "import matplotlib.pyplot as plt\n",
    "from scipy.optimize import curve_fit\n",
    "\n",
    "# 定义拟合函数，这里以线性函数为例\n",
    "def linear_func(x, a, b):\n",
    "    return a * x + b\n",
    "\n",
    "# 文件路径列表\n",
    "file_paths = [\n",
    "    '/home/hanling/HunyuanVideo_efficiency/analysis_ci/analysis_results_30hz_ssim_1x_720p/metrics.csv',\n",
    "    '/home/hanling/HunyuanVideo_efficiency/analysis_ci/analysis_results_30hz_ssim_2x_720p/metrics.csv',\n",
    "    '/home/hanling/HunyuanVideo_efficiency/analysis_ci/analysis_results_30hz_ssim_4x_720p/metrics.csv'\n",
    "]\n",
    "\n",
    "# 标签列表，用于图例\n",
    "colors = ['r', 'g', 'b']\n",
    "\n",
    "# 存储拟合参数\n",
    "fit_params = {'psnr': [], 'ssim': [], 'lpips': []}\n",
    "\n",
    "# 存储每个文件的数据\n",
    "data_list = []\n",
    "\n",
    "# 打印当前工作目录\n",
    "print(f\"当前工作目录: {os.getcwd()}\")\n",
    "\n",
    "# 检查每个文件是否存在并读取\n",
    "for path in file_paths:\n",
    "    if not os.path.isfile(path):\n",
    "        print(f\"文件不存在: {path}\")\n",
    "    else:\n",
    "        print(f\"文件存在: {path}\")\n",
    "        try:\n",
    "            df = pd.read_csv(path)\n",
    "            \n",
    "            # 确保 'tile_ci' 被转换为浮点数\n",
    "            df['tile_ci'] = pd.to_numeric(df['tile_ci'], errors='coerce')\n",
    "            \n",
    "            # 选择数值类型的列\n",
    "            numeric_cols = ['tile_ci', 'psnr', 'ssim', 'lpips']\n",
    "            df_numeric = df[numeric_cols].dropna()  # 去除可能的NaN值\n",
    "            \n",
    "            # 按 tile_ci 分组，计算每个 tile_ci 的平均值\n",
    "            df_grouped = df_numeric.groupby('tile_ci').mean().reset_index()\n",
    "            data_list.append(df_grouped)\n",
    "        except Exception as e:\n",
    "            print(f\"读取文件失败 {path}: {e}\")\n",
    "\n",
    "# 确保所有文件都存在后继续\n",
    "if len(data_list) != len(file_paths):\n",
    "    print(\"部分文件缺失，无法继续拟合和绘图。\")\n",
    "    sys.exit(1)\n",
    "\n",
    "# 定义指标\n",
    "metrics = ['lpips']\n",
    "\n",
    "labels = ['4Hz', '2Hz', '1Hz']\n",
    "plt.figure(figsize=(6, 5))\n",
    "plt.subplot(2,1,2)\n",
    "# 对每个指标进行独立绘图\n",
    "for metric in metrics:\n",
    "    for i, df in enumerate(data_list):\n",
    "        x = 1-df['tile_ci'].values\n",
    "        y = df[metric].values\n",
    "        # 拟合\n",
    "        try:\n",
    "            popt, _ = curve_fit(linear_func, x, y, method='dogbox',sigma=1)\n",
    "            fit_params[metric].append(popt)\n",
    "            # 生成拟合曲线\n",
    "            x_fit = np.linspace(x.min(), x.max(), 100)\n",
    "            y_fit = linear_func(x_fit, *popt)\n",
    "            plt.plot(x_fit, y_fit, color=colors[i], label=labels[i])\n",
    "            # 输出拟合参数和拟合质量\n",
    "            a, b = popt\n",
    "            y_pred = linear_func(x, a, b)\n",
    "            r2 = np.corrcoef(y, y_pred)[0, 1]**2\n",
    "            print(f\"指标: {metric}, 设置: {labels[i]}, 拟合参数: a={a:.4f}, b={b:.4f}, R²={r2:.4f}\")\n",
    "        except Exception as e:\n",
    "            print(f\"拟合失败 for {metric} in {labels[i]}: {e}\")\n",
    "            fit_params[metric].append([np.nan, np.nan])\n",
    "        \n",
    "        # 绘制原始数据点\n",
    "#         plt.scatter(x, y, color=colors[i], alpha=0.3)\n",
    "#     plt.xlabel('Content Complexity')\n",
    "#     plt.ylabel('Reconstruction LPIPS')\n",
    "#     plt.legend()\n",
    "#     plt.tight_layout()\n",
    "\n",
    "# plt.grid()\n",
    "# plt.xlim(0,0.69)\n",
    "(x<0.7/5).mean()\n"
   ]
  }
 ],
 "metadata": {
  "kernelspec": {
   "display_name": "HunyuanVideo",
   "language": "python",
   "name": "python3"
  },
  "language_info": {
   "codemirror_mode": {
    "name": "ipython",
    "version": 3
   },
   "file_extension": ".py",
   "mimetype": "text/x-python",
   "name": "python",
   "nbconvert_exporter": "python",
   "pygments_lexer": "ipython3",
   "version": "3.10.13"
  }
 },
 "nbformat": 4,
 "nbformat_minor": 2
}

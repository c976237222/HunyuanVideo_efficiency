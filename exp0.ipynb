{
 "cells": [
  {
   "cell_type": "code",
   "execution_count": 1,
   "metadata": {},
   "outputs": [],
   "source": [
    "import os\n",
    "import torch\n",
    "import matplotlib.pyplot as plt\n",
    "\n",
    "def show(tensor_path):\n",
    "    steps = 50  # 假设有50个step\n",
    "    channels = 16  # 假设有16个channel\n",
    "    t_group_size = 3  # 每 3 个 T 进行分组\n",
    "    \n",
    "    # 存储最终的均值和标准差\n",
    "    mean_values = torch.zeros(steps)\n",
    "    std_values = torch.zeros(steps)\n",
    "    \n",
    "    for i in range(steps):\n",
    "        # 加载 noise_pred 数据\n",
    "        noise_pred = torch.load(f\"/home/siyuan/HunyuanVideo_efficiency/results/{tensor_path}/noise_pred_{i}.pt\")[0, :, :, :, :]\n",
    "        \n",
    "        batch_size, num_channels, num_timesteps, height, width = noise_pred.shape\n",
    "        \n",
    "        num_t_groups = (num_timesteps + t_group_size - 1) // t_group_size  # 计算 T 需要多少个分组\n",
    "        \n",
    "        group_means = []\n",
    "        group_stds = []\n",
    "        \n",
    "        # 遍历 T 维度，每 3 个 T 作为一组\n",
    "        for t_group in range(num_t_groups):\n",
    "            t_start = t_group * t_group_size\n",
    "            t_end = min((t_group + 1) * t_group_size, num_timesteps)  # 确保不会超出 T 维度\n",
    "            \n",
    "            # 计算每个channel的均值和标准差\n",
    "            group_mean = noise_pred[:, :, t_start:t_end, :, :].mean(dim=[2, 3, 4])  # (B, C)\n",
    "            group_std = noise_pred[:, :, t_start:t_end, :, :].std(dim=[2, 3, 4])  # (B, C)\n",
    "            \n",
    "            group_means.append(group_mean)\n",
    "            group_stds.append(group_std)\n",
    "        \n",
    "        # 转换为张量并计算所有 channel 的均值\n",
    "        group_means = torch.stack(group_means).mean()  # 计算所有 channel 均值的均值\n",
    "        group_stds = torch.stack(group_stds).mean()    # 计算所有 channel 标准差的均值\n",
    "        \n",
    "        mean_values[i] = group_means\n",
    "        std_values[i] = group_stds\n",
    "    \n",
    "    # 绘制最终图表\n",
    "    fig, axes = plt.subplots(1, 2, figsize=(15, 6))\n",
    "    \n",
    "    # 绘制均值变化\n",
    "    axes[0].plot(range(steps), mean_values, marker='x', linestyle='-', label='Mean over all Channels')\n",
    "    axes[0].set_title('Mean of Noise Prediction')\n",
    "    axes[0].set_xlabel('Step (i)')\n",
    "    axes[0].set_ylabel('Mean')\n",
    "    \n",
    "    # 绘制标准差变化\n",
    "    axes[1].plot(range(steps), std_values, marker='x', linestyle='-', label='Standard Deviation over all Channels')\n",
    "    axes[1].set_title('Standard Deviation of Noise Prediction')\n",
    "    axes[1].set_xlabel('Step (i)')\n",
    "    axes[1].set_ylabel('Standard Deviation')\n",
    "    \n",
    "    plt.show()\n"
   ]
  },
  {
   "cell_type": "code",
   "execution_count": 3,
   "metadata": {},
   "outputs": [
    {
     "name": "stderr",
     "output_type": "stream",
     "text": [
      "/tmp/ipykernel_121419/139410939.py:16: FutureWarning: You are using `torch.load` with `weights_only=False` (the current default value), which uses the default pickle module implicitly. It is possible to construct malicious pickle data which will execute arbitrary code during unpickling (See https://github.com/pytorch/pytorch/blob/main/SECURITY.md#untrusted-models for more details). In a future release, the default value for `weights_only` will be flipped to `True`. This limits the functions that could be executed during unpickling. Arbitrary objects will no longer be allowed to be loaded via this mode unless they are explicitly allowlisted by the user via `torch.serialization.add_safe_globals`. We recommend you start setting `weights_only=True` for any use case where you don't have full control of the loaded file. Please open an issue on GitHub for any issues related to this experimental feature.\n",
      "  noise_pred = torch.load(f\"/home/siyuan/HunyuanVideo_efficiency/results/{tensor_path}/noise_pred_{i}.pt\")[0, :, :, :, :]\n"
     ]
    },
    {
     "ename": "ValueError",
     "evalue": "not enough values to unpack (expected 5, got 4)",
     "output_type": "error",
     "traceback": [
      "\u001b[0;31m---------------------------------------------------------------------------\u001b[0m",
      "\u001b[0;31mValueError\u001b[0m                                Traceback (most recent call last)",
      "Cell \u001b[0;32mIn[3], line 1\u001b[0m\n\u001b[0;32m----> 1\u001b[0m \u001b[43mshow\u001b[49m\u001b[43m(\u001b[49m\u001b[38;5;124;43m\"\u001b[39;49m\u001b[38;5;124;43mtensor\u001b[39;49m\u001b[38;5;124;43m\"\u001b[39;49m\u001b[43m)\u001b[49m\n",
      "Cell \u001b[0;32mIn[1], line 18\u001b[0m, in \u001b[0;36mshow\u001b[0;34m(tensor_path)\u001b[0m\n\u001b[1;32m     14\u001b[0m \u001b[38;5;28;01mfor\u001b[39;00m i \u001b[38;5;129;01min\u001b[39;00m \u001b[38;5;28mrange\u001b[39m(steps):\n\u001b[1;32m     15\u001b[0m     \u001b[38;5;66;03m# 加载 noise_pred 数据\u001b[39;00m\n\u001b[1;32m     16\u001b[0m     noise_pred \u001b[38;5;241m=\u001b[39m torch\u001b[38;5;241m.\u001b[39mload(\u001b[38;5;124mf\u001b[39m\u001b[38;5;124m\"\u001b[39m\u001b[38;5;124m/home/siyuan/HunyuanVideo_efficiency/results/\u001b[39m\u001b[38;5;132;01m{\u001b[39;00mtensor_path\u001b[38;5;132;01m}\u001b[39;00m\u001b[38;5;124m/noise_pred_\u001b[39m\u001b[38;5;132;01m{\u001b[39;00mi\u001b[38;5;132;01m}\u001b[39;00m\u001b[38;5;124m.pt\u001b[39m\u001b[38;5;124m\"\u001b[39m)[\u001b[38;5;241m0\u001b[39m, :, :, :, :]\n\u001b[0;32m---> 18\u001b[0m     batch_size, num_channels, num_timesteps, height, width \u001b[38;5;241m=\u001b[39m noise_pred\u001b[38;5;241m.\u001b[39mshape\n\u001b[1;32m     20\u001b[0m     num_t_groups \u001b[38;5;241m=\u001b[39m (num_timesteps \u001b[38;5;241m+\u001b[39m t_group_size \u001b[38;5;241m-\u001b[39m \u001b[38;5;241m1\u001b[39m) \u001b[38;5;241m/\u001b[39m\u001b[38;5;241m/\u001b[39m t_group_size  \u001b[38;5;66;03m# 计算 T 需要多少个分组\u001b[39;00m\n\u001b[1;32m     22\u001b[0m     group_means \u001b[38;5;241m=\u001b[39m []\n",
      "\u001b[0;31mValueError\u001b[0m: not enough values to unpack (expected 5, got 4)"
     ]
    }
   ],
   "source": [
    "show(\"tensor\")"
   ]
  }
 ],
 "metadata": {
  "kernelspec": {
   "display_name": "HunyuanVideo",
   "language": "python",
   "name": "python3"
  },
  "language_info": {
   "codemirror_mode": {
    "name": "ipython",
    "version": 3
   },
   "file_extension": ".py",
   "mimetype": "text/x-python",
   "name": "python",
   "nbconvert_exporter": "python",
   "pygments_lexer": "ipython3",
   "version": "3.10.13"
  }
 },
 "nbformat": 4,
 "nbformat_minor": 2
}

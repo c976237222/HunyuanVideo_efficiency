{
 "cells": [
  {
   "cell_type": "code",
   "execution_count": 7,
   "metadata": {},
   "outputs": [
    {
     "name": "stdout",
     "output_type": "stream",
     "text": [
      "已成功截取8张图像。\n"
     ]
    }
   ],
   "source": [
    "import cv2\n",
    "import numpy as np\n",
    "\n",
    "# 输入视频路径\n",
    "video_path = 'raw_prompt2_8.mp4'\n",
    "# 输出图片保存路径\n",
    "output_folder = 'output_images/'\n",
    "\n",
    "# 打开视频文件\n",
    "cap = cv2.VideoCapture(video_path)\n",
    "\n",
    "# 获取视频的总帧数\n",
    "total_frames = int(cap.get(cv2.CAP_PROP_FRAME_COUNT))\n",
    "\n",
    "# 计算每隔多少帧截取一张图像\n",
    "frames_to_capture = total_frames // 8\n",
    "\n",
    "# 遍历视频并截取图像\n",
    "for i in range(8):\n",
    "    # 设置视频的当前帧\n",
    "    cap.set(cv2.CAP_PROP_POS_FRAMES, i * frames_to_capture)\n",
    "    \n",
    "    # 读取当前帧\n",
    "    ret, frame = cap.read()\n",
    "    if ret:\n",
    "        # 保存图像\n",
    "        output_path = f\"{output_folder}frame_{i + 1}.jpg\"\n",
    "        cv2.imwrite(output_path, frame)\n",
    "\n",
    "# 释放视频对象\n",
    "cap.release()\n",
    "print(\"已成功截取8张图像。\")"
   ]
  },
  {
   "cell_type": "code",
   "execution_count": 9,
   "metadata": {},
   "outputs": [
    {
     "name": "stdout",
     "output_type": "stream",
     "text": [
      "已成功拼接8张图片。\n"
     ]
    }
   ],
   "source": [
    "import os\n",
    "# 图片文件夹路径\n",
    "image_folder = 'output_images/'\n",
    "# 获取所有图片文件\n",
    "image_files = sorted([f for f in os.listdir(image_folder) if f.endswith('.jpg')])\n",
    "\n",
    "# 读取图片并存入列表\n",
    "images = []\n",
    "for image_file in image_files:\n",
    "    img = cv2.imread(os.path.join(image_folder, image_file))\n",
    "    if img is not None:\n",
    "        images.append(img)\n",
    "\n",
    "# 确保读取到8张图片\n",
    "if len(images) == 8:\n",
    "    # 拼接图片\n",
    "    stitched_image = np.hstack(images)\n",
    "\n",
    "    # 保存拼接后的图片\n",
    "    cv2.imwrite(image_folder+'stitched_image.jpg', stitched_image)\n",
    "    print(\"已成功拼接8张图片。\")\n",
    "else:\n",
    "    print(\"未找到8张图片。\")"
   ]
  },
  {
   "cell_type": "code",
   "execution_count": 12,
   "metadata": {},
   "outputs": [
    {
     "name": "stdout",
     "output_type": "stream",
     "text": [
      "已成功拼接8张图片。\n"
     ]
    }
   ],
   "source": [
    "import cv2\n",
    "import numpy as np\n",
    "\n",
    "# 输入视频路径\n",
    "video_path = 'raw_prompt2_2.mp4'\n",
    "# 输出图片保存路径\n",
    "output_folder = 'output_images/'\n",
    "\n",
    "# 打开视频文件\n",
    "cap = cv2.VideoCapture(video_path)\n",
    "\n",
    "# 获取视频的总帧数\n",
    "total_frames = int(cap.get(cv2.CAP_PROP_FRAME_COUNT))\n",
    "\n",
    "# 计算每隔多少帧截取一张图像\n",
    "frames_to_capture = total_frames // 10\n",
    "\n",
    "# 遍历视频并截取图像\n",
    "images=[]\n",
    "for i in range(2,10):\n",
    "    # 设置视频的当前帧\n",
    "    cap.set(cv2.CAP_PROP_POS_FRAMES, i * frames_to_capture)\n",
    "    \n",
    "    # 读取当前帧\n",
    "    ret, frame = cap.read()\n",
    "    if ret:\n",
    "        # 保存图像\n",
    "        images.append(frame)\n",
    "        # output_path = f\"{output_folder}frame_{i + 1}.jpg\"\n",
    "        # cv2.imwrite(output_path, frame)\n",
    "\n",
    "if len(images) == 8:\n",
    "    # 拼接图片\n",
    "    stitched_image = np.hstack(images)\n",
    "\n",
    "    # 保存拼接后的图片\n",
    "    cv2.imwrite(image_folder+'stitched_image2.jpg', stitched_image)\n",
    "    print(\"已成功拼接8张图片。\")\n",
    "else:\n",
    "    print(\"未找到8张图片。\")\n",
    "\n",
    "# 释放视频对象\n",
    "# cap.release()\n",
    "# print(\"已成功截取8张图像。\")"
   ]
  }
 ],
 "metadata": {
  "kernelspec": {
   "display_name": "HunyuanVideo",
   "language": "python",
   "name": "python3"
  },
  "language_info": {
   "codemirror_mode": {
    "name": "ipython",
    "version": 3
   },
   "file_extension": ".py",
   "mimetype": "text/x-python",
   "name": "python",
   "nbconvert_exporter": "python",
   "pygments_lexer": "ipython3",
   "version": "3.10.13"
  }
 },
 "nbformat": 4,
 "nbformat_minor": 2
}

{
 "cells": [
  {
   "cell_type": "code",
   "execution_count": 1,
   "metadata": {},
   "outputs": [],
   "source": [
    "import numpy as np\n",
    "import cv2\n",
    "import matplotlib.pyplot as plt\n",
    "import torch.nn.functional as F\n",
    "import torch\n",
    "import os,sys\n",
    "import torchvision.transforms as transforms\n",
    "# os.environ[\"https_proxy\"]=\"10.10.20.100:1089\"\n",
    "# os.environ[\"https_proxy\"]=\"127.0.0.1:7890\"\n",
    "os.environ[\"CUDA_VISIBLE_DEVICES\"]=\"7\"\n",
    "sys.path.append('..')\n",
    "sys.path.append('.')\n",
    "%load_ext autoreload\n",
    "%autoreload 2"
   ]
  },
  {
   "cell_type": "code",
   "execution_count": 2,
   "metadata": {},
   "outputs": [
    {
     "name": "stderr",
     "output_type": "stream",
     "text": [
      "/mnt/public/hanling/mnt/public/hanling/miniconda3/envs/HunyuanVideo/lib/python3.10/site-packages/tqdm/auto.py:21: TqdmWarning: IProgress not found. Please update jupyter and ipywidgets. See https://ipywidgets.readthedocs.io/en/stable/user_install.html\n",
      "  from .autonotebook import tqdm as notebook_tqdm\n"
     ]
    }
   ],
   "source": [
    "import os\n",
    "import time\n",
    "from pathlib import Path\n",
    "from loguru import logger\n",
    "from datetime import datetime\n",
    "\n",
    "from hyvideo.utils.file_utils import save_videos_grid\n",
    "from hyvideo.config import parse_args\n",
    "from hyvideo.inference import HunyuanVideoSampler"
   ]
  },
  {
   "cell_type": "code",
   "execution_count": 33,
   "metadata": {},
   "outputs": [
    {
     "name": "stdout",
     "output_type": "stream",
     "text": [
      "/mnt/public/wangsiyuan/HunyuanVideo_efficiency/hyvideo/config.py\n",
      "['--video-size', '720', '1280', '--video-length', '129', '--infer-steps', '50', '--prompt', 'cat.', '--flow-reverse', '--use-cpu-offload', '--save-path', './results']\n",
      "Namespace(model='HYVideo-T/2-cfgdistill', latent_channels=16, precision='bf16', rope_theta=256, vae='884-16c-hy', vae_precision='fp16', vae_tiling=True, text_encoder='llm', text_encoder_precision='fp16', text_states_dim=4096, text_len=256, tokenizer='llm', prompt_template='dit-llm-encode', prompt_template_video='dit-llm-encode-video', hidden_state_skip_layer=2, apply_final_norm=False, text_encoder_2='clipL', text_encoder_precision_2='fp16', text_states_dim_2=768, tokenizer_2='clipL', text_len_2=77, denoise_type='flow', flow_shift=7.0, flow_reverse=True, flow_solver='euler', use_linear_quadratic_schedule=False, linear_schedule_end=25, model_base='ckpts', dit_weight='ckpts/hunyuan-video-t2v-720p/transformers/mp_rank_00_model_states.pt', model_resolution='540p', load_key='module', use_cpu_offload=True, batch_size=1, infer_steps=50, disable_autocast=False, save_path='./results', save_path_suffix='', name_suffix='', num_videos=1, video_size=[720, 1280], video_length=129, prompt='cat.', seed_type='auto', seed=None, neg_prompt=None, cfg_scale=1.0, embedded_cfg_scale=6.0, use_fp8=False, reproduce=False, ulysses_degree=1, ring_degree=1)\n"
     ]
    }
   ],
   "source": [
    "import hyvideo.config\n",
    "print(hyvideo.config.__file__)\n",
    "from hyvideo.config import parse_args\n",
    "string_args=\"\"\"--video-size 720 1280 --video-length 129 --infer-steps 50 --prompt cat. --flow-reverse --use-cpu-offload --save-path ./results\"\"\"\n",
    "string_args=string_args.split(\" \")\n",
    "print(string_args)\n",
    "args = parse_args(string_args=string_args)\n",
    "print(args)\n",
    "prompt1=\"A man waits at a bus stop; a bus arrives.\"\n",
    "prompt11=\"Cartoon style. A man stands at a quiet bus stop on a sunny afternoon. Then, a bright yellow bus approaches.\"\n",
    "prompt12=\"Realistic style. A man stands at a quiet bus stop on a sunny afternoon. Then, a bright yellow bus approaches.\"\n",
    "prompt2=\"A man is reading the newspaper on the chair, then he walks away.\"\n",
    "args.prompt=prompt1\n"
   ]
  },
  {
   "cell_type": "code",
   "execution_count": 4,
   "metadata": {},
   "outputs": [
    {
     "name": "stderr",
     "output_type": "stream",
     "text": [
      "\u001b[32m2025-01-31 14:24:02.551\u001b[0m | \u001b[1mINFO    \u001b[0m | \u001b[36mhyvideo.inference\u001b[0m:\u001b[36mfrom_pretrained\u001b[0m:\u001b[36m154\u001b[0m - \u001b[1mGot text-to-video model root path: ckpts\u001b[0m\n",
      "\u001b[32m2025-01-31 14:24:02.552\u001b[0m | \u001b[1mINFO    \u001b[0m | \u001b[36mhyvideo.inference\u001b[0m:\u001b[36mfrom_pretrained\u001b[0m:\u001b[36m189\u001b[0m - \u001b[1mBuilding model...\u001b[0m\n",
      "\u001b[32m2025-01-31 14:24:02.799\u001b[0m | \u001b[1mINFO    \u001b[0m | \u001b[36mhyvideo.inference\u001b[0m:\u001b[36mload_state_dict\u001b[0m:\u001b[36m340\u001b[0m - \u001b[1mLoading torch model ckpts/hunyuan-video-t2v-720p/transformers/mp_rank_00_model_states.pt...\u001b[0m\n",
      "/mnt/public/wangsiyuan/HunyuanVideo_efficiency/hyvideo/inference.py:341: FutureWarning: You are using `torch.load` with `weights_only=False` (the current default value), which uses the default pickle module implicitly. It is possible to construct malicious pickle data which will execute arbitrary code during unpickling (See https://github.com/pytorch/pytorch/blob/main/SECURITY.md#untrusted-models for more details). In a future release, the default value for `weights_only` will be flipped to `True`. This limits the functions that could be executed during unpickling. Arbitrary objects will no longer be allowed to be loaded via this mode unless they are explicitly allowlisted by the user via `torch.serialization.add_safe_globals`. We recommend you start setting `weights_only=True` for any use case where you don't have full control of the loaded file. Please open an issue on GitHub for any issues related to this experimental feature.\n",
      "  state_dict = torch.load(model_path, map_location=lambda storage, loc: storage)\n",
      "\u001b[32m2025-01-31 14:24:24.541\u001b[0m | \u001b[1mINFO    \u001b[0m | \u001b[36mhyvideo.vae\u001b[0m:\u001b[36mload_vae\u001b[0m:\u001b[36m87\u001b[0m - \u001b[1mLoading 3D VAE model (884-16c-hy) from: ./ckpts/hunyuan-video-t2v-720p/vae\u001b[0m\n",
      "\u001b[32m2025-01-31 14:24:26.853\u001b[0m | \u001b[1mINFO    \u001b[0m | \u001b[36mhyvideo.vae\u001b[0m:\u001b[36mload_vae\u001b[0m:\u001b[36m113\u001b[0m - \u001b[1mVAE to dtype: torch.float16\u001b[0m\n",
      "\u001b[32m2025-01-31 14:24:26.921\u001b[0m | \u001b[1mINFO    \u001b[0m | \u001b[36mhyvideo.text_encoder\u001b[0m:\u001b[36mload_text_encoder\u001b[0m:\u001b[36m28\u001b[0m - \u001b[1mLoading text encoder model (llm) from: ./ckpts/text_encoder\u001b[0m\n",
      "Loading checkpoint shards: 100%|██████████| 4/4 [00:06<00:00,  1.73s/it]\n",
      "\u001b[32m2025-01-31 14:24:38.170\u001b[0m | \u001b[1mINFO    \u001b[0m | \u001b[36mhyvideo.text_encoder\u001b[0m:\u001b[36mload_text_encoder\u001b[0m:\u001b[36m50\u001b[0m - \u001b[1mText encoder to dtype: torch.float16\u001b[0m\n",
      "\u001b[32m2025-01-31 14:24:38.176\u001b[0m | \u001b[1mINFO    \u001b[0m | \u001b[36mhyvideo.text_encoder\u001b[0m:\u001b[36mload_tokenizer\u001b[0m:\u001b[36m64\u001b[0m - \u001b[1mLoading tokenizer (llm) from: ./ckpts/text_encoder\u001b[0m\n",
      "\u001b[32m2025-01-31 14:24:39.158\u001b[0m | \u001b[1mINFO    \u001b[0m | \u001b[36mhyvideo.text_encoder\u001b[0m:\u001b[36mload_text_encoder\u001b[0m:\u001b[36m28\u001b[0m - \u001b[1mLoading text encoder model (clipL) from: ./ckpts/text_encoder_2\u001b[0m\n",
      "\u001b[32m2025-01-31 14:24:39.390\u001b[0m | \u001b[1mINFO    \u001b[0m | \u001b[36mhyvideo.text_encoder\u001b[0m:\u001b[36mload_text_encoder\u001b[0m:\u001b[36m50\u001b[0m - \u001b[1mText encoder to dtype: torch.float16\u001b[0m\n",
      "\u001b[32m2025-01-31 14:24:39.393\u001b[0m | \u001b[1mINFO    \u001b[0m | \u001b[36mhyvideo.text_encoder\u001b[0m:\u001b[36mload_tokenizer\u001b[0m:\u001b[36m64\u001b[0m - \u001b[1mLoading tokenizer (clipL) from: ./ckpts/text_encoder_2\u001b[0m\n"
     ]
    }
   ],
   "source": [
    "models_root_path = Path(args.model_base)\n",
    "hunyuan_video_sampler = HunyuanVideoSampler.from_pretrained(models_root_path, args=args)"
   ]
  },
  {
   "cell_type": "code",
   "execution_count": 25,
   "metadata": {},
   "outputs": [
    {
     "name": "stderr",
     "output_type": "stream",
     "text": [
      "\u001b[32m2025-01-31 15:07:12.678\u001b[0m | \u001b[1mINFO    \u001b[0m | \u001b[36mhyvideo.vae.adaptive_temporal_tiling\u001b[0m:\u001b[36m__init__\u001b[0m:\u001b[36m49\u001b[0m - \u001b[1mLoading 4x-time-compression VAE ...\u001b[0m\n",
      "\u001b[32m2025-01-31 15:07:15.786\u001b[0m | \u001b[1mINFO    \u001b[0m | \u001b[36mhyvideo.vae.unet_causal_3d_blocks\u001b[0m:\u001b[36mapply_t_ops_config\u001b[0m:\u001b[36m742\u001b[0m - \u001b[1mDown Conv Stride updated to (2, 2, 2)\u001b[0m\n",
      "\u001b[32m2025-01-31 15:07:15.788\u001b[0m | \u001b[1mINFO    \u001b[0m | \u001b[36mhyvideo.vae.unet_causal_3d_blocks\u001b[0m:\u001b[36mapply_t_ops_config\u001b[0m:\u001b[36m742\u001b[0m - \u001b[1mDown Conv Stride updated to (4, 2, 2)\u001b[0m\n",
      "\u001b[32m2025-01-31 15:07:15.789\u001b[0m | \u001b[1mINFO    \u001b[0m | \u001b[36mhyvideo.vae.unet_causal_3d_blocks\u001b[0m:\u001b[36mapply_t_ops_config\u001b[0m:\u001b[36m742\u001b[0m - \u001b[1mDown Conv Stride updated to (2, 2, 2)\u001b[0m\n",
      "\u001b[32m2025-01-31 15:07:15.881\u001b[0m | \u001b[1mINFO    \u001b[0m | \u001b[36mhyvideo.vae.adaptive_temporal_tiling\u001b[0m:\u001b[36m__init__\u001b[0m:\u001b[36m59\u001b[0m - \u001b[1mLoading 2x-time-compression VAE ...\u001b[0m\n",
      "\u001b[32m2025-01-31 15:07:18.821\u001b[0m | \u001b[1mINFO    \u001b[0m | \u001b[36mhyvideo.vae.unet_causal_3d_blocks\u001b[0m:\u001b[36mapply_t_ops_config\u001b[0m:\u001b[36m742\u001b[0m - \u001b[1mDown Conv Stride updated to (2, 2, 2)\u001b[0m\n",
      "\u001b[32m2025-01-31 15:07:18.825\u001b[0m | \u001b[1mINFO    \u001b[0m | \u001b[36mhyvideo.vae.unet_causal_3d_blocks\u001b[0m:\u001b[36mapply_t_ops_config\u001b[0m:\u001b[36m742\u001b[0m - \u001b[1mDown Conv Stride updated to (2, 2, 2)\u001b[0m\n",
      "\u001b[32m2025-01-31 15:07:18.826\u001b[0m | \u001b[1mINFO    \u001b[0m | \u001b[36mhyvideo.vae.unet_causal_3d_blocks\u001b[0m:\u001b[36mapply_t_ops_config\u001b[0m:\u001b[36m742\u001b[0m - \u001b[1mDown Conv Stride updated to (2, 2, 2)\u001b[0m\n",
      "\u001b[32m2025-01-31 15:07:18.916\u001b[0m | \u001b[1mINFO    \u001b[0m | \u001b[36mhyvideo.vae.adaptive_temporal_tiling\u001b[0m:\u001b[36m__init__\u001b[0m:\u001b[36m69\u001b[0m - \u001b[1mLoading 1x(no)-time-compression VAE ...\u001b[0m\n",
      "\u001b[32m2025-01-31 15:07:21.853\u001b[0m | \u001b[1mINFO    \u001b[0m | \u001b[36mhyvideo.vae.unet_causal_3d_blocks\u001b[0m:\u001b[36mapply_t_ops_config\u001b[0m:\u001b[36m742\u001b[0m - \u001b[1mDown Conv Stride updated to (1, 2, 2)\u001b[0m\n",
      "\u001b[32m2025-01-31 15:07:21.855\u001b[0m | \u001b[1mINFO    \u001b[0m | \u001b[36mhyvideo.vae.unet_causal_3d_blocks\u001b[0m:\u001b[36mapply_t_ops_config\u001b[0m:\u001b[36m742\u001b[0m - \u001b[1mDown Conv Stride updated to (2, 2, 2)\u001b[0m\n",
      "\u001b[32m2025-01-31 15:07:21.856\u001b[0m | \u001b[1mINFO    \u001b[0m | \u001b[36mhyvideo.vae.unet_causal_3d_blocks\u001b[0m:\u001b[36mapply_t_ops_config\u001b[0m:\u001b[36m742\u001b[0m - \u001b[1mDown Conv Stride updated to (2, 2, 2)\u001b[0m\n"
     ]
    }
   ],
   "source": [
    "from hyvideo.vae.adaptive_temporal_tiling import AdaptiveTemporalTiling\n",
    "device = \"cuda\" if torch.cuda.is_available() else \"cpu\"\n",
    "\n",
    "adaptor = AdaptiveTemporalTiling(\n",
    "        vae_ckpt_path=\"ckpts/hunyuan-video-t2v-720p/vae\",\n",
    "        device=device,\n",
    "        vae_precision=\"fp16\",\n",
    "    )\n",
    "\n"
   ]
  },
  {
   "cell_type": "code",
   "execution_count": 29,
   "metadata": {},
   "outputs": [
    {
     "name": "stderr",
     "output_type": "stream",
     "text": [
      "\u001b[32m2025-01-31 15:15:22.587\u001b[0m | \u001b[1mINFO    \u001b[0m | \u001b[36mhyvideo.inference\u001b[0m:\u001b[36mpredict\u001b[0m:\u001b[36m580\u001b[0m - \u001b[1mInput (height, width, video_length) = (180, 320, 257)\u001b[0m\n",
      "\u001b[32m2025-01-31 15:15:22.600\u001b[0m | \u001b[34m\u001b[1mDEBUG   \u001b[0m | \u001b[36mhyvideo.inference\u001b[0m:\u001b[36mpredict\u001b[0m:\u001b[36m640\u001b[0m - \u001b[34m\u001b[1m\n",
      "                        height: 192\n",
      "                         width: 320\n",
      "                  video_length: 257\n",
      "                        prompt: ['Cartoon style. A man stands at a quiet bus stop on a sunny afternoon. Then, a bright yellow bus approaches.']\n",
      "                    neg_prompt: ['Aerial view, aerial view, overexposed, low quality, deformation, a poor composition, bad hands, bad teeth, bad eyes, bad limbs, distortion']\n",
      "                          seed: 5\n",
      "                   infer_steps: 50\n",
      "         num_videos_per_prompt: 1\n",
      "                guidance_scale: 1.0\n",
      "                      n_tokens: 15600\n",
      "                    flow_shift: 7.0\n",
      "       embedded_guidance_scale: 6.0\u001b[0m\n",
      "100%|██████████| 50/50 [02:04<00:00,  2.49s/it]\n",
      "\u001b[32m2025-01-31 15:17:32.074\u001b[0m | \u001b[1mINFO    \u001b[0m | \u001b[36mhyvideo.vae.unet_causal_3d_blocks\u001b[0m:\u001b[36mforward\u001b[0m:\u001b[36m911\u001b[0m - \u001b[1mUp Interp before ResnetBlock: scale_factor=(2, 1, 1),hidden_states.shape=torch.Size([1, 128, 66, 192, 256]), layer=0\u001b[0m\n",
      "\u001b[32m2025-01-31 15:17:32.539\u001b[0m | \u001b[1mINFO    \u001b[0m | \u001b[36mhyvideo.vae.unet_causal_3d_blocks\u001b[0m:\u001b[36mforward\u001b[0m:\u001b[36m911\u001b[0m - \u001b[1mUp Interp before ResnetBlock: scale_factor=(2, 1, 1),hidden_states.shape=torch.Size([1, 128, 66, 192, 128]), layer=0\u001b[0m\n",
      "\u001b[32m2025-01-31 15:17:32.821\u001b[0m | \u001b[1mINFO    \u001b[0m | \u001b[36mhyvideo.vae.unet_causal_3d_blocks\u001b[0m:\u001b[36mforward\u001b[0m:\u001b[36m911\u001b[0m - \u001b[1mUp Interp before ResnetBlock: scale_factor=(2, 1, 1),hidden_states.shape=torch.Size([1, 128, 66, 192, 256]), layer=0\u001b[0m\n",
      "\u001b[32m2025-01-31 15:17:33.286\u001b[0m | \u001b[1mINFO    \u001b[0m | \u001b[36mhyvideo.vae.unet_causal_3d_blocks\u001b[0m:\u001b[36mforward\u001b[0m:\u001b[36m911\u001b[0m - \u001b[1mUp Interp before ResnetBlock: scale_factor=(2, 1, 1),hidden_states.shape=torch.Size([1, 128, 66, 192, 128]), layer=0\u001b[0m\n",
      "\u001b[32m2025-01-31 15:17:35.877\u001b[0m | \u001b[1mINFO    \u001b[0m | \u001b[36mhyvideo.inference\u001b[0m:\u001b[36mpredict\u001b[0m:\u001b[36m669\u001b[0m - \u001b[1mSuccess, time: 133.27581191062927\u001b[0m\n",
      "huggingface/tokenizers: The current process just got forked, after parallelism has already been used. Disabling parallelism to avoid deadlocks...\n",
      "To disable this warning, you can either:\n",
      "\t- Avoid using `tokenizers` before the fork if possible\n",
      "\t- Explicitly set the environment variable TOKENIZERS_PARALLELISM=(true | false)\n"
     ]
    }
   ],
   "source": [
    "hunyuan_video_sampler.vae.adaptor=adaptor\n",
    "args.infer_steps=50\n",
    "args.video_length=128*2+1\n",
    "height=720//4\n",
    "width=1280//4\n",
    "for seed in range(10):\n",
    "    outputs = hunyuan_video_sampler.predict(\n",
    "            prompt=prompt11, \n",
    "            height=height,\n",
    "            width=width,\n",
    "            video_length=args.video_length,\n",
    "            seed=seed,\n",
    "            negative_prompt=args.neg_prompt,\n",
    "            infer_steps=args.infer_steps,\n",
    "            guidance_scale=args.cfg_scale,\n",
    "            num_videos_per_prompt=args.num_videos,\n",
    "            flow_shift=args.flow_shift,\n",
    "            batch_size=args.batch_size,\n",
    "            embedded_guidance_scale=args.embedded_cfg_scale\n",
    "        )\n",
    "    samples = outputs['samples']\n",
    "    save_path = f\"output/raw_prompt1_{seed}.mp4\"\n",
    "    save_videos_grid(samples, save_path, fps=24)"
   ]
  },
  {
   "cell_type": "code",
   "execution_count": null,
   "metadata": {},
   "outputs": [
    {
     "name": "stderr",
     "output_type": "stream",
     "text": [
      "\u001b[32m2025-01-31 15:39:57.935\u001b[0m | \u001b[1mINFO    \u001b[0m | \u001b[36mhyvideo.inference\u001b[0m:\u001b[36mpredict\u001b[0m:\u001b[36m580\u001b[0m - \u001b[1mInput (height, width, video_length) = (180, 320, 129)\u001b[0m\n",
      "\u001b[32m2025-01-31 15:39:57.949\u001b[0m | \u001b[34m\u001b[1mDEBUG   \u001b[0m | \u001b[36mhyvideo.inference\u001b[0m:\u001b[36mpredict\u001b[0m:\u001b[36m640\u001b[0m - \u001b[34m\u001b[1m\n",
      "                        height: 192\n",
      "                         width: 320\n",
      "                  video_length: 129\n",
      "                        prompt: ['Realistic style. A man stands at a quiet bus stop on a sunny afternoon. Then, a bright yellow bus approaches.']\n",
      "                    neg_prompt: ['Aerial view, aerial view, overexposed, low quality, deformation, a poor composition, bad hands, bad teeth, bad eyes, bad limbs, distortion']\n",
      "                          seed: 0\n",
      "                   infer_steps: 50\n",
      "         num_videos_per_prompt: 1\n",
      "                guidance_scale: 1.0\n",
      "                      n_tokens: 7920\n",
      "                    flow_shift: 7.0\n",
      "       embedded_guidance_scale: 6.0\u001b[0m\n",
      "100%|██████████| 50/50 [00:54<00:00,  1.08s/it]\n",
      "\u001b[32m2025-01-31 15:40:56.254\u001b[0m | \u001b[1mINFO    \u001b[0m | \u001b[36mhyvideo.vae.unet_causal_3d_blocks\u001b[0m:\u001b[36mforward\u001b[0m:\u001b[36m911\u001b[0m - \u001b[1mUp Interp before ResnetBlock: scale_factor=(2, 1, 1),hidden_states.shape=torch.Size([1, 128, 66, 192, 256]), layer=0\u001b[0m\n",
      "\u001b[32m2025-01-31 15:40:56.715\u001b[0m | \u001b[1mINFO    \u001b[0m | \u001b[36mhyvideo.vae.unet_causal_3d_blocks\u001b[0m:\u001b[36mforward\u001b[0m:\u001b[36m911\u001b[0m - \u001b[1mUp Interp before ResnetBlock: scale_factor=(2, 1, 1),hidden_states.shape=torch.Size([1, 128, 66, 192, 128]), layer=0\u001b[0m\n",
      "\u001b[32m2025-01-31 15:40:58.149\u001b[0m | \u001b[1mINFO    \u001b[0m | \u001b[36mhyvideo.inference\u001b[0m:\u001b[36mpredict\u001b[0m:\u001b[36m669\u001b[0m - \u001b[1mSuccess, time: 60.199140548706055\u001b[0m\n",
      "huggingface/tokenizers: The current process just got forked, after parallelism has already been used. Disabling parallelism to avoid deadlocks...\n",
      "To disable this warning, you can either:\n",
      "\t- Avoid using `tokenizers` before the fork if possible\n",
      "\t- Explicitly set the environment variable TOKENIZERS_PARALLELISM=(true | false)\n",
      "\u001b[32m2025-01-31 15:40:59.391\u001b[0m | \u001b[1mINFO    \u001b[0m | \u001b[36mhyvideo.inference\u001b[0m:\u001b[36mpredict\u001b[0m:\u001b[36m580\u001b[0m - \u001b[1mInput (height, width, video_length) = (180, 320, 129)\u001b[0m\n",
      "\u001b[32m2025-01-31 15:40:59.406\u001b[0m | \u001b[34m\u001b[1mDEBUG   \u001b[0m | \u001b[36mhyvideo.inference\u001b[0m:\u001b[36mpredict\u001b[0m:\u001b[36m640\u001b[0m - \u001b[34m\u001b[1m\n",
      "                        height: 192\n",
      "                         width: 320\n",
      "                  video_length: 129\n",
      "                        prompt: ['Realistic style. A man stands at a quiet bus stop on a sunny afternoon. Then, a bright yellow bus approaches.']\n",
      "                    neg_prompt: ['Aerial view, aerial view, overexposed, low quality, deformation, a poor composition, bad hands, bad teeth, bad eyes, bad limbs, distortion']\n",
      "                          seed: 1\n",
      "                   infer_steps: 50\n",
      "         num_videos_per_prompt: 1\n",
      "                guidance_scale: 1.0\n",
      "                      n_tokens: 7920\n",
      "                    flow_shift: 7.0\n",
      "       embedded_guidance_scale: 6.0\u001b[0m\n",
      "100%|██████████| 50/50 [00:54<00:00,  1.09s/it]\n",
      "\u001b[32m2025-01-31 15:41:59.655\u001b[0m | \u001b[1mINFO    \u001b[0m | \u001b[36mhyvideo.vae.unet_causal_3d_blocks\u001b[0m:\u001b[36mforward\u001b[0m:\u001b[36m911\u001b[0m - \u001b[1mUp Interp before ResnetBlock: scale_factor=(2, 1, 1),hidden_states.shape=torch.Size([1, 128, 66, 192, 256]), layer=0\u001b[0m\n",
      "\u001b[32m2025-01-31 15:42:00.113\u001b[0m | \u001b[1mINFO    \u001b[0m | \u001b[36mhyvideo.vae.unet_causal_3d_blocks\u001b[0m:\u001b[36mforward\u001b[0m:\u001b[36m911\u001b[0m - \u001b[1mUp Interp before ResnetBlock: scale_factor=(2, 1, 1),hidden_states.shape=torch.Size([1, 128, 66, 192, 128]), layer=0\u001b[0m\n",
      "\u001b[32m2025-01-31 15:42:01.563\u001b[0m | \u001b[1mINFO    \u001b[0m | \u001b[36mhyvideo.inference\u001b[0m:\u001b[36mpredict\u001b[0m:\u001b[36m669\u001b[0m - \u001b[1mSuccess, time: 62.155762672424316\u001b[0m\n",
      "huggingface/tokenizers: The current process just got forked, after parallelism has already been used. Disabling parallelism to avoid deadlocks...\n",
      "To disable this warning, you can either:\n",
      "\t- Avoid using `tokenizers` before the fork if possible\n",
      "\t- Explicitly set the environment variable TOKENIZERS_PARALLELISM=(true | false)\n",
      "\u001b[32m2025-01-31 15:42:02.785\u001b[0m | \u001b[1mINFO    \u001b[0m | \u001b[36mhyvideo.inference\u001b[0m:\u001b[36mpredict\u001b[0m:\u001b[36m580\u001b[0m - \u001b[1mInput (height, width, video_length) = (180, 320, 129)\u001b[0m\n",
      "\u001b[32m2025-01-31 15:42:02.809\u001b[0m | \u001b[34m\u001b[1mDEBUG   \u001b[0m | \u001b[36mhyvideo.inference\u001b[0m:\u001b[36mpredict\u001b[0m:\u001b[36m640\u001b[0m - \u001b[34m\u001b[1m\n",
      "                        height: 192\n",
      "                         width: 320\n",
      "                  video_length: 129\n",
      "                        prompt: ['Realistic style. A man stands at a quiet bus stop on a sunny afternoon. Then, a bright yellow bus approaches.']\n",
      "                    neg_prompt: ['Aerial view, aerial view, overexposed, low quality, deformation, a poor composition, bad hands, bad teeth, bad eyes, bad limbs, distortion']\n",
      "                          seed: 2\n",
      "                   infer_steps: 50\n",
      "         num_videos_per_prompt: 1\n",
      "                guidance_scale: 1.0\n",
      "                      n_tokens: 7920\n",
      "                    flow_shift: 7.0\n",
      "       embedded_guidance_scale: 6.0\u001b[0m\n",
      "100%|██████████| 50/50 [00:54<00:00,  1.09s/it]\n",
      "\u001b[32m2025-01-31 15:43:03.250\u001b[0m | \u001b[1mINFO    \u001b[0m | \u001b[36mhyvideo.vae.unet_causal_3d_blocks\u001b[0m:\u001b[36mforward\u001b[0m:\u001b[36m911\u001b[0m - \u001b[1mUp Interp before ResnetBlock: scale_factor=(2, 1, 1),hidden_states.shape=torch.Size([1, 128, 66, 192, 256]), layer=0\u001b[0m\n",
      "\u001b[32m2025-01-31 15:43:03.711\u001b[0m | \u001b[1mINFO    \u001b[0m | \u001b[36mhyvideo.vae.unet_causal_3d_blocks\u001b[0m:\u001b[36mforward\u001b[0m:\u001b[36m911\u001b[0m - \u001b[1mUp Interp before ResnetBlock: scale_factor=(2, 1, 1),hidden_states.shape=torch.Size([1, 128, 66, 192, 128]), layer=0\u001b[0m\n",
      "\u001b[32m2025-01-31 15:43:05.175\u001b[0m | \u001b[1mINFO    \u001b[0m | \u001b[36mhyvideo.inference\u001b[0m:\u001b[36mpredict\u001b[0m:\u001b[36m669\u001b[0m - \u001b[1mSuccess, time: 62.36471962928772\u001b[0m\n"
     ]
    }
   ],
   "source": [
    "hunyuan_video_sampler.vae.adaptor=adaptor\n",
    "args.infer_steps=50\n",
    "args.video_length=128+1\n",
    "height=720//3\n",
    "width=1280//3\n",
    "for seed in range(10):\n",
    "    outputs = hunyuan_video_sampler.predict(\n",
    "            prompt=prompt12, \n",
    "            height=height,\n",
    "            width=width,\n",
    "            video_length=args.video_length,\n",
    "            seed=seed,\n",
    "            negative_prompt=args.neg_prompt,\n",
    "            infer_steps=args.infer_steps,\n",
    "            guidance_scale=args.cfg_scale,\n",
    "            num_videos_per_prompt=args.num_videos,\n",
    "            flow_shift=args.flow_shift,\n",
    "            batch_size=args.batch_size,\n",
    "            embedded_guidance_scale=args.embedded_cfg_scale\n",
    "        )\n",
    "    samples = outputs['samples']\n",
    "    save_path = f\"output/raw_prompt1_{seed}.mp4\"\n",
    "    save_videos_grid(samples, save_path, fps=24)"
   ]
  },
  {
   "cell_type": "code",
   "execution_count": null,
   "metadata": {},
   "outputs": [],
   "source": []
  },
  {
   "cell_type": "code",
   "execution_count": null,
   "metadata": {},
   "outputs": [
    {
     "name": "stderr",
     "output_type": "stream",
     "text": [
      "huggingface/tokenizers: The current process just got forked, after parallelism has already been used. Disabling parallelism to avoid deadlocks...\n",
      "To disable this warning, you can either:\n",
      "\t- Avoid using `tokenizers` before the fork if possible\n",
      "\t- Explicitly set the environment variable TOKENIZERS_PARALLELISM=(true | false)\n"
     ]
    }
   ],
   "source": [
    "args.infer_steps=50\n",
    "outputs = hunyuan_video_sampler.predict(\n",
    "        prompt=prompt2, \n",
    "        height=args.video_size[0]//2,\n",
    "        width=args.video_size[1]//2,\n",
    "        video_length=args.video_length,\n",
    "        seed=args.seed,\n",
    "        negative_prompt=args.neg_prompt,\n",
    "        infer_steps=args.infer_steps,\n",
    "        guidance_scale=args.cfg_scale,\n",
    "        num_videos_per_prompt=args.num_videos,\n",
    "        flow_shift=args.flow_shift,\n",
    "        batch_size=args.batch_size,\n",
    "        embedded_guidance_scale=args.embedded_cfg_scale\n",
    "    )\n",
    "samples = outputs['samples']\n",
    "save_path = f\"output/raw_prompt2.mp4\"\n",
    "save_videos_grid(samples, save_path, fps=24)"
   ]
  },
  {
   "cell_type": "code",
   "execution_count": null,
   "metadata": {},
   "outputs": [],
   "source": [
    "\n",
    "\n",
    "outputs = hunyuan_video_sampler.predict(\n",
    "        prompt=prompt1, \n",
    "        height=args.video_size[0],\n",
    "        width=args.video_size[1],\n",
    "        video_length=args.video_length,\n",
    "        seed=args.seed,\n",
    "        negative_prompt=args.neg_prompt,\n",
    "        infer_steps=args.infer_steps,\n",
    "        guidance_scale=args.cfg_scale,\n",
    "        num_videos_per_prompt=args.num_videos,\n",
    "        flow_shift=args.flow_shift,\n",
    "        batch_size=args.batch_size,\n",
    "        embedded_guidance_scale=args.embedded_cfg_scale\n",
    "    )\n",
    "samples = outputs['samples']\n",
    "for i, sample in enumerate(samples):\n",
    "    samples = outputs['samples']\n",
    "    save_path = f\"output/raw_prompt11.mp4\"\n",
    "    save_videos_grid(sample, save_path, fps=24)\n",
    "\n",
    "outputs = hunyuan_video_sampler.predict(\n",
    "        prompt=prompt2, \n",
    "        height=args.video_size[0],\n",
    "        width=args.video_size[1],\n",
    "        video_length=args.video_length,\n",
    "        seed=args.seed,\n",
    "        negative_prompt=args.neg_prompt,\n",
    "        infer_steps=args.infer_steps,\n",
    "        guidance_scale=args.cfg_scale,\n",
    "        num_videos_per_prompt=args.num_videos,\n",
    "        flow_shift=args.flow_shift,\n",
    "        batch_size=args.batch_size,\n",
    "        embedded_guidance_scale=args.embedded_cfg_scale\n",
    "    )\n",
    "samples = outputs['samples']\n",
    "for i, sample in enumerate(samples):\n",
    "    samples = outputs['samples']\n",
    "    save_path = f\"output/raw_prompt22.mp4\"\n",
    "    save_videos_grid(sample, save_path, fps=24)"
   ]
  },
  {
   "cell_type": "code",
   "execution_count": null,
   "metadata": {},
   "outputs": [],
   "source": []
  }
 ],
 "metadata": {
  "kernelspec": {
   "display_name": "HunyuanVideo",
   "language": "python",
   "name": "python3"
  },
  "language_info": {
   "codemirror_mode": {
    "name": "ipython",
    "version": 3
   },
   "file_extension": ".py",
   "mimetype": "text/x-python",
   "name": "python",
   "nbconvert_exporter": "python",
   "pygments_lexer": "ipython3",
   "version": "3.10.13"
  }
 },
 "nbformat": 4,
 "nbformat_minor": 2
}
